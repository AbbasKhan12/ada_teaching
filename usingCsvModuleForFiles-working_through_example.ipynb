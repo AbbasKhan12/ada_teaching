{
 "cells": [
  {
   "cell_type": "code",
   "execution_count": 33,
   "metadata": {
    "slideshow": {
     "slide_type": "slide"
    }
   },
   "outputs": [
    {
     "name": "stdout",
     "output_type": "stream",
     "text": [
      "[['Fred', '23', '34', '56'], ['Joe', '99', '45', '56'], ['Jane', '65', '34', '57'], ['Gigi', '77', '99', '12'], ['Karla', '76', '84', '45']]\n"
     ]
    }
   ],
   "source": [
    "#import the csv module\n",
    "import csv\n",
    "\n",
    "#functions\n",
    "\n",
    "#This function opens the file for reading and reads the file contents into a List of list of Strings. \n",
    "#This list is returned to the calling program\n",
    "\n",
    "def openFileRead():\n",
    "    \n",
    "    dataList=[]\n",
    "    try: \n",
    "        with open(\"students.csv\") as f:\n",
    "            reader = csv.reader(f)\n",
    "            for line in reader:\n",
    "                dataList.append(line)\n",
    "                #print(dataList)\n",
    "    \n",
    "    except FileNotFoundError:\n",
    "        print(\"Sorry that file was not found\")\n",
    "    return dataList\n",
    "\n",
    "\n",
    "#main program\n",
    "\n",
    "studentDataList = openFileRead()\n",
    "print(studentDataList)"
   ]
  },
  {
   "cell_type": "code",
   "execution_count": 8,
   "metadata": {
    "scrolled": true,
    "slideshow": {
     "slide_type": "slide"
    }
   },
   "outputs": [
    {
     "name": "stdout",
     "output_type": "stream",
     "text": [
      "Name\tMaths\tEng\tSci\n",
      "========================================\n",
      "Fred\t23\t34\t56\t\n",
      "Joe\t99\t45\t56\t\n",
      "Jane\t65\t34\t57\t\n",
      "Gigi\t77\t99\t12\t\n",
      "Karla\t76\t84\t45\t\n"
     ]
    }
   ],
   "source": [
    "# this function takes as its parameters a list of list (of strings) \n",
    "# and a heading (as a string)\n",
    "# and prints the data in a user friendly table\n",
    "def printData(dataList, headings):\n",
    "    \n",
    "    print(headings)\n",
    "    print(\"=\"*40)\n",
    "    for i in range(len(dataList)):  #for all the rows\n",
    "        for j in range(len(dataList[i])):   #for all the items in each row\n",
    "            print(dataList[i][j], end=\"\\t\") #end with tab to line up columns\n",
    "        print()\n",
    "        \n",
    "printData(studentDataList, \"Name\\tMaths\\tEng\\tSci\")"
   ]
  },
  {
   "attachments": {
    "average.PNG": {
     "image/png": "[encoded data removed]"
    }
   },
   "cell_type": "markdown",
   "metadata": {
    "slideshow": {
     "slide_type": "slide"
    }
   },
   "source": [
    "![average.PNG](attachment:average.PNG)"
   ]
  },
  {
   "cell_type": "markdown",
   "metadata": {
    "slideshow": {
     "slide_type": "slide"
    }
   },
   "source": [
    "#this function takes a list of lists (of strings) and calculates the students average grade\n",
    "#this new data is stored in a new list of lists which is returned to the calling function\n",
    "\n",
    "\n",
    "#define the name of the function (taking the datalist read in from the CSV file as an arguement)\n",
    "    #for every row in the datalist\n",
    "        #create a new list called newRow\n",
    "        #Add contents of position i,1 to the newRow list\n",
    "        #Add contents of position i,2 to the newRow list\n",
    "        #Add contents of position i,3 to the newRow list\n",
    "        #Convert the contents of newRow list to Integer so that they can be added together\n",
    "        #Create a new variable and add the three scores together\n",
    "        #calculate the average of the three scores\n",
    "        #round result down to two decimal places\n",
    "        #convert the answer (the average) back to a string\n",
    "        #append the average figure to the i position in the datalist.\n",
    "        "
   ]
  },
  {
   "cell_type": "code",
   "execution_count": 35,
   "metadata": {
    "slideshow": {
     "slide_type": "slide"
    }
   },
   "outputs": [
    {
     "name": "stdout",
     "output_type": "stream",
     "text": [
      "['Fred', '23', '34', '56']\n"
     ]
    }
   ],
   "source": [
    "def calculateAve(dataList):\n",
    "    print(dataList[0])\n",
    "    #print(dataList[1])\n",
    "    #print(dataList[0][0])\n",
    "    #print(dataList[0][1])\n",
    "    #total = dataList[0][1]\n",
    "    #print (total)\n",
    "    #print(type(total))\n",
    "    #total = dataList[0][1] + dataList[0][2] + dataList[0][3] \n",
    "    #print (total)\n",
    "    #total = int(total)\n",
    "    #print(type(total))\n",
    "    #total = str(total)\n",
    "    #dataList[0].append(total)\n",
    "    #print(dataList)\n",
    "    \n",
    "    \n",
    "        \n",
    "   \n",
    "\n",
    "aveStudentData = calculateAve(studentDataList)\n",
    "#print(aveStudentData) #debug"
   ]
  }
 ],
 "metadata": {
  "celltoolbar": "Slideshow",
  "kernelspec": {
   "display_name": "Python 3",
   "language": "python",
   "name": "python3"
  },
  "language_info": {
   "codemirror_mode": {
    "name": "ipython",
    "version": 3
   },
   "file_extension": ".py",
   "mimetype": "text/x-python",
   "name": "python",
   "nbconvert_exporter": "python",
   "pygments_lexer": "ipython3",
   "version": "3.5.2"
  }
 },
 "nbformat": 4,
 "nbformat_minor": 2
}
